{
  "nbformat": 4,
  "nbformat_minor": 0,
  "metadata": {
    "colab": {
      "name": "323_755827_cf_Untitled_1_ZqfnP5U.ipynb",
      "provenance": [],
      "include_colab_link": true
    },
    "kernelspec": {
      "name": "python3",
      "display_name": "Python 3"
    }
  },
  "cells": [
    {
      "cell_type": "markdown",
      "metadata": {
        "id": "view-in-github",
        "colab_type": "text"
      },
      "source": [
        "<a href=\"https://colab.research.google.com/github/golu10/projects/blob/master/twittersentimentanalysis.ipynb\" target=\"_parent\"><img src=\"https://colab.research.google.com/assets/colab-badge.svg\" alt=\"Open In Colab\"/></a>"
      ]
    },
    {
      "cell_type": "code",
      "metadata": {
        "id": "rfgQORyNMWjE",
        "colab_type": "code",
        "outputId": "d46e8b40-9dbc-4562-9741-c1df1d5bf304",
        "colab": {
          "base_uri": "https://localhost:8080/",
          "height": 118
        }
      },
      "source": [
        "import pandas as pd\n",
        "\n",
        "data=pd.read_csv('/content/train_E6oV3lV.csv')\n",
        "print(data.head())\n",
        "\n",
        "import re\n",
        "import spacy\n",
        "from sklearn.feature_extraction.text import TfidfVectorizer\n",
        "from sklearn.model_selection import train_test_split\n",
        "from sklearn.naive_bayes import MultinomialNB\n",
        "from sklearn import metrics"
      ],
      "execution_count": 0,
      "outputs": [
        {
          "output_type": "stream",
          "text": [
            "   id  label                                              tweet\n",
            "0   1      0   @user when a father is dysfunctional and is s...\n",
            "1   2      0  @user @user thanks for #lyft credit i can't us...\n",
            "2   3      0                                bihday your majesty\n",
            "3   4      0  #model   i love u take with u all the time in ...\n",
            "4   5      0             factsguide: society now    #motivation\n"
          ],
          "name": "stdout"
        }
      ]
    },
    {
      "cell_type": "code",
      "metadata": {
        "id": "Mjyl8Z-aPiKL",
        "colab_type": "code",
        "outputId": "213ed6b9-44d6-494c-f99a-8abade83c432",
        "colab": {
          "base_uri": "https://localhost:8080/",
          "height": 34
        }
      },
      "source": [
        "def remove_pattern(pattern,text):\n",
        "  rem=[x for x in text.split() if x.startswith(pattern)]\n",
        "  input_text=[x for x in text.split() if x not in rem]\n",
        "  return ' '.join(input_text)\n",
        "\n",
        "data['new_tweet']=data['tweet'].apply(lambda x : remove_pattern('@',x))\n",
        "\n",
        "nlp=spacy.load('en_core_web_sm')\n",
        "def lemma(text):\n",
        "  doc=nlp(text)\n",
        "  lemmas=[token.lemma_ for token in doc]\n",
        "  lemmas=[i for i in lemmas if i.isalpha()]\n",
        "  return ' '.join(lemmas)\n",
        "data['new_tweet']=data['new_tweet'].apply(lambda x:lemma(x))\n",
        "data.drop(columns='tweet',axis=1)\n",
        "Y=data['label']\n",
        "X=data['new_tweet']\n",
        "X_train,X_test,Y_train,Y_test=train_test_split(X,Y,test_size=0.2,random_state=42)\n",
        "\n",
        "tfidf_vectorizer=TfidfVectorizer(max_df=0.90,min_df=10,stop_words='english')\n",
        "X_traindf = tfidf_vectorizer.fit_transform(X)\n",
        "\n",
        "classifier=MultinomialNB()\n",
        "classifier.fit(X_traindf,Y)\n"
      ],
      "execution_count": 0,
      "outputs": [
        {
          "output_type": "execute_result",
          "data": {
            "text/plain": [
              "MultinomialNB(alpha=1.0, class_prior=None, fit_prior=True)"
            ]
          },
          "metadata": {
            "tags": []
          },
          "execution_count": 8
        }
      ]
    },
    {
      "cell_type": "code",
      "metadata": {
        "id": "L1tdlBeKlOWo",
        "colab_type": "code",
        "outputId": "84928bdc-72d5-4881-d883-5f5e93a849e7",
        "colab": {
          "base_uri": "https://localhost:8080/",
          "height": 134
        }
      },
      "source": [
        "test_data=pd.read_csv('/content/test_tweets_anuFYb8.csv')\n",
        "print(test_data.head())\n",
        "test_data['test_tweet']=test_data['tweet'].apply(lambda x: remove_pattern('@',x))\n",
        "test_data['test_tweet']=test_data['test_tweet'].apply(lambda x:lemma(x))\n",
        "X_testy=test_data['test_tweet']\n",
        "X_testydf=tfidf_vectorizer.transform(X_testy)\n",
        "test_pred=classifier.predict(X_testydf)\n",
        "print(test_pred)"
      ],
      "execution_count": 0,
      "outputs": [
        {
          "output_type": "stream",
          "text": [
            "      id                                              tweet\n",
            "0  31963  #studiolife #aislife #requires #passion #dedic...\n",
            "1  31964   @user #white #supremacists want everyone to s...\n",
            "2  31965  safe ways to heal your #acne!!    #altwaystohe...\n",
            "3  31966  is the hp and the cursed child book up for res...\n",
            "4  31967    3rd #bihday to my amazing, hilarious #nephew...\n",
            "[0 0 0 ... 0 0 0]\n"
          ],
          "name": "stdout"
        }
      ]
    },
    {
      "cell_type": "code",
      "metadata": {
        "id": "IAhmfrY4ou2x",
        "colab_type": "code",
        "outputId": "d45c605c-e781-4f4e-a3b3-2da16aae9110",
        "colab": {
          "base_uri": "https://localhost:8080/",
          "height": 67
        }
      },
      "source": [
        "import collections\n",
        "collections.Counter(test_pred)\n",
        "submit=pd.read_csv('/content/sample_submission_gfvA5FD.csv')\n",
        "submit1=submit.drop(['label'],axis=1)\n",
        "submit1['label']=test_pred\n",
        "print(submit1['label'].value_counts())\n",
        "submit1.to_csv('submission0.csv')"
      ],
      "execution_count": 0,
      "outputs": [
        {
          "output_type": "stream",
          "text": [
            "0    16679\n",
            "1      518\n",
            "Name: label, dtype: int64\n"
          ],
          "name": "stdout"
        }
      ]
    },
    {
      "cell_type": "code",
      "metadata": {
        "id": "yNgbC9-G_gSN",
        "colab_type": "code",
        "colab": {}
      },
      "source": [
        ""
      ],
      "execution_count": 0,
      "outputs": []
    }
  ]
}