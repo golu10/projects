{
  "nbformat": 4,
  "nbformat_minor": 0,
  "metadata": {
    "colab": {
      "name": "Untitled",
      "provenance": [],
      "collapsed_sections": [],
      "authorship_tag": "ABX9TyO5tn9a/uuIknj1jZvor83L",
      "include_colab_link": true
    },
    "kernelspec": {
      "name": "python3",
      "display_name": "Python 3"
    },
    "accelerator": "GPU"
  },
  "cells": [
    {
      "cell_type": "markdown",
      "metadata": {
        "id": "view-in-github",
        "colab_type": "text"
      },
      "source": [
        "<a href=\"https://colab.research.google.com/github/golu10/projects/blob/master/wine%20data.ipynb\" target=\"_parent\"><img src=\"https://colab.research.google.com/assets/colab-badge.svg\" alt=\"Open In Colab\"/></a>"
      ]
    },
    {
      "cell_type": "code",
      "metadata": {
        "id": "Pwanryfa5LkP",
        "colab_type": "code",
        "outputId": "8f19264d-6028-43b7-a378-f8ab7e2e9aa9",
        "colab": {
          "base_uri": "https://localhost:8080/",
          "height": 729
        }
      },
      "source": [
        "import pandas as pd\n",
        "import matplotlib.pyplot as plt\n",
        "\n",
        "data=pd.read_csv('/content/Knight ML Assignment/Data/train.csv')\n",
        "print(data.describe())\n",
        "print(data.nunique())\n",
        "plt.hist(data['price'])\n",
        "plt.show()\n"
      ],
      "execution_count": 2,
      "outputs": [
        {
          "output_type": "stream",
          "text": [
            "             points         price\n",
            "count  82657.000000  77088.000000\n",
            "mean      88.544564     36.922232\n",
            "std        3.099649     43.698346\n",
            "min       80.000000      4.000000\n",
            "25%       86.000000     18.000000\n",
            "50%       88.000000     27.000000\n",
            "75%       91.000000     45.000000\n",
            "max      100.000000   3300.000000\n",
            "user_name                15\n",
            "country                  38\n",
            "review_title          76983\n",
            "review_description    77628\n",
            "designation           26424\n",
            "points                   21\n",
            "price                   351\n",
            "province                358\n",
            "region_1               1019\n",
            "region_2                 17\n",
            "winery                13786\n",
            "variety                  28\n",
            "dtype: int64\n"
          ],
          "name": "stdout"
        },
        {
          "output_type": "stream",
          "text": [
            "/usr/local/lib/python3.6/dist-packages/numpy/lib/histograms.py:839: RuntimeWarning: invalid value encountered in greater_equal\n",
            "  keep = (tmp_a >= first_edge)\n",
            "/usr/local/lib/python3.6/dist-packages/numpy/lib/histograms.py:840: RuntimeWarning: invalid value encountered in less_equal\n",
            "  keep &= (tmp_a <= last_edge)\n"
          ],
          "name": "stderr"
        },
        {
          "output_type": "display_data",
          "data": {
            "image/png": "[encoded data removed]",
            "text/plain": [
              "<Figure size 432x288 with 1 Axes>"
            ]
          },
          "metadata": {
            "tags": [],
            "needs_background": "light"
          }
        }
      ]
    },
    {
      "cell_type": "code",
      "metadata": {
        "id": "P2knxL-ujDbQ",
        "colab_type": "code",
        "colab": {
          "base_uri": "https://localhost:8080/",
          "height": 483
        },
        "outputId": "451c3830-4586-4ee7-a336-06fa7bbffb22"
      },
      "source": [
        "print(data['winery'].value_counts().head(100))\n",
        "plt.hist(data['winery'],bins=100)\n",
        "plt.show()"
      ],
      "execution_count": 3,
      "outputs": [
        {
          "output_type": "stream",
          "text": [
            "Testarossa               175\n",
            "Louis Latour             168\n",
            "Williams Selyem          165\n",
            "Chateau Ste. Michelle    163\n",
            "Georges Duboeuf          163\n",
            "                        ... \n",
            "Marimar Estate            54\n",
            "Dunham                    54\n",
            "L. Tramier & Fils         54\n",
            "Merry Edwards             54\n",
            "Thomas Fogarty            54\n",
            "Name: winery, Length: 100, dtype: int64\n"
          ],
          "name": "stdout"
        },
        {
          "output_type": "display_data",
          "data": {
            "image/png": "[encoded data removed]",
            "text/plain": [
              "<Figure size 432x288 with 1 Axes>"
            ]
          },
          "metadata": {
            "tags": [],
            "needs_background": "light"
          }
        }
      ]
    },
    {
      "cell_type": "code",
      "metadata": {
        "id": "GeFimWvFRQIz",
        "colab_type": "code",
        "colab": {
          "base_uri": "https://localhost:8080/",
          "height": 745
        },
        "outputId": "dbb154cc-e428-4f69-8008-ea440beeefea"
      },
      "source": [
        "print(data.describe(exclude='number'))\n",
        "print(data.info())\n",
        "data[['price']].boxplot()\n",
        "plt.show()"
      ],
      "execution_count": 4,
      "outputs": [
        {
          "output_type": "stream",
          "text": [
            "         user_name country  ...      winery     variety\n",
            "count        63264   82622  ...       82657       82657\n",
            "unique          15      38  ...       13786          28\n",
            "top     @vossroger      US  ...  Testarossa  Pinot Noir\n",
            "freq         17539   38573  ...         175       10587\n",
            "\n",
            "[4 rows x 10 columns]\n",
            "<class 'pandas.core.frame.DataFrame'>\n",
            "RangeIndex: 82657 entries, 0 to 82656\n",
            "Data columns (total 12 columns):\n",
            " #   Column              Non-Null Count  Dtype  \n",
            "---  ------              --------------  -----  \n",
            " 0   user_name           63264 non-null  object \n",
            " 1   country             82622 non-null  object \n",
            " 2   review_title        82657 non-null  object \n",
            " 3   review_description  82657 non-null  object \n",
            " 4   designation         59010 non-null  object \n",
            " 5   points              82657 non-null  int64  \n",
            " 6   price               77088 non-null  float64\n",
            " 7   province            82622 non-null  object \n",
            " 8   region_1            69903 non-null  object \n",
            " 9   region_2            35949 non-null  object \n",
            " 10  winery              82657 non-null  object \n",
            " 11  variety             82657 non-null  object \n",
            "dtypes: float64(1), int64(1), object(10)\n",
            "memory usage: 7.6+ MB\n",
            "None\n"
          ],
          "name": "stdout"
        },
        {
          "output_type": "display_data",
          "data": {
            "image/png": "[encoded data removed]",
            "text/plain": [
              "<Figure size 432x288 with 1 Axes>"
            ]
          },
          "metadata": {
            "tags": [],
            "needs_background": "light"
          }
        }
      ]
    },
    {
      "cell_type": "code",
      "metadata": {
        "id": "2c__gOS-a06P",
        "colab_type": "code",
        "colab": {
          "base_uri": "https://localhost:8080/",
          "height": 335
        },
        "outputId": "9fee435d-2ada-4f4a-ecf5-7cf104fcbc0b"
      },
      "source": [
        "import seaborn as sns\n",
        "sns.boxplot(x=data['price'])\n",
        "plt.show()"
      ],
      "execution_count": 5,
      "outputs": [
        {
          "output_type": "stream",
          "text": [
            "/usr/local/lib/python3.6/dist-packages/statsmodels/tools/_testing.py:19: FutureWarning: pandas.util.testing is deprecated. Use the functions in the public API at pandas.testing instead.\n",
            "  import pandas.util.testing as tm\n"
          ],
          "name": "stderr"
        },
        {
          "output_type": "display_data",
          "data": {
            "image/png": "[encoded data removed]",
            "text/plain": [
              "<Figure size 432x288 with 1 Axes>"
            ]
          },
          "metadata": {
            "tags": [],
            "needs_background": "light"
          }
        }
      ]
    },
    {
      "cell_type": "code",
      "metadata": {
        "id": "_taXA_kn3aQh",
        "colab_type": "code",
        "colab": {
          "base_uri": "https://localhost:8080/",
          "height": 279
        },
        "outputId": "e52a42c4-b5c1-4efa-b1d3-22f214813bd9"
      },
      "source": [
        "q1=data2['price'].quantile(0.25)\n",
        "q2=data2['price'].quantile(0.75)\n",
        "iqr=q2-q1\n",
        "q11,q22=q1-(1.5*iqr),q2+(1.5*iqr)\n",
        "data1=data2[(data2['price']<q22) & (data2['price']>q11)]\n",
        "sns.boxplot(x=data1['price'])\n",
        "plt.show()\n",
        "\n"
      ],
      "execution_count": 7,
      "outputs": [
        {
          "output_type": "display_data",
          "data": {
            "image/png": "[encoded data removed]",
            "text/plain": [
              "<Figure size 432x288 with 1 Axes>"
            ]
          },
          "metadata": {
            "tags": [],
            "needs_background": "light"
          }
        }
      ]
    },
    {
      "cell_type": "code",
      "metadata": {
        "id": "reycg0km9Awc",
        "colab_type": "code",
        "colab": {
          "base_uri": "https://localhost:8080/",
          "height": 279
        },
        "outputId": "3d42dbf2-d9ae-4181-ef1a-1616ecb389c1"
      },
      "source": [
        "Q1=data['points'].quantile(0.25)\n",
        "Q2=data['points'].quantile(0.75)\n",
        "IQR=Q2-Q1\n",
        "Q11,Q22=Q1-(1.5*IQR),Q2+(1.5*IQR)\n",
        "data2=data[(data['points']<Q22)&(data['points']>Q11)]\n",
        "sns.boxplot(data2['price'])\n",
        "plt.show()"
      ],
      "execution_count": 6,
      "outputs": [
        {
          "output_type": "display_data",
          "data": {
            "image/png": "[encoded data removed]",
            "text/plain": [
              "<Figure size 432x288 with 1 Axes>"
            ]
          },
          "metadata": {
            "tags": [],
            "needs_background": "light"
          }
        }
      ]
    },
    {
      "cell_type": "code",
      "metadata": {
        "id": "g-FDdAhvAMcz",
        "colab_type": "code",
        "colab": {
          "base_uri": "https://localhost:8080/",
          "height": 390
        },
        "outputId": "af755f78-e524-4daa-bd9b-ee25c8b75a39"
      },
      "source": [
        "print(data1.info())\n",
        "data1=data1.drop(labels=['user_name','review_title','review_description','designation','region_1','region_2'],axis=1)\n",
        "print(data1.columns)"
      ],
      "execution_count": 8,
      "outputs": [
        {
          "output_type": "stream",
          "text": [
            "<class 'pandas.core.frame.DataFrame'>\n",
            "Int64Index: 73185 entries, 0 to 82656\n",
            "Data columns (total 12 columns):\n",
            " #   Column              Non-Null Count  Dtype  \n",
            "---  ------              --------------  -----  \n",
            " 0   user_name           55419 non-null  object \n",
            " 1   country             73154 non-null  object \n",
            " 2   review_title        73185 non-null  object \n",
            " 3   review_description  73185 non-null  object \n",
            " 4   designation         51946 non-null  object \n",
            " 5   points              73185 non-null  int64  \n",
            " 6   price               73185 non-null  float64\n",
            " 7   province            73154 non-null  object \n",
            " 8   region_1            61588 non-null  object \n",
            " 9   region_2            34332 non-null  object \n",
            " 10  winery              73185 non-null  object \n",
            " 11  variety             73185 non-null  object \n",
            "dtypes: float64(1), int64(1), object(10)\n",
            "memory usage: 7.3+ MB\n",
            "None\n",
            "Index(['country', 'points', 'price', 'province', 'winery', 'variety'], dtype='object')\n"
          ],
          "name": "stdout"
        }
      ]
    },
    {
      "cell_type": "code",
      "metadata": {
        "id": "sexBD1FwcfsT",
        "colab_type": "code",
        "colab": {
          "base_uri": "https://localhost:8080/",
          "height": 106
        },
        "outputId": "104b378a-596f-4bed-872f-ca5d2b85e074"
      },
      "source": [
        "counts=data1.country.value_counts()\n",
        "rem=counts[counts<50].index\n",
        "mask=data1.country.isin(rem)\n",
        "data1.country[mask]='Other'\n",
        "\n"
      ],
      "execution_count": 9,
      "outputs": [
        {
          "output_type": "stream",
          "text": [
            "/usr/local/lib/python3.6/dist-packages/ipykernel_launcher.py:4: SettingWithCopyWarning: \n",
            "A value is trying to be set on a copy of a slice from a DataFrame\n",
            "\n",
            "See the caveats in the documentation: https://pandas.pydata.org/pandas-docs/stable/user_guide/indexing.html#returning-a-view-versus-a-copy\n",
            "  after removing the cwd from sys.path.\n"
          ],
          "name": "stderr"
        }
      ]
    },
    {
      "cell_type": "code",
      "metadata": {
        "id": "a7d12qBGi4YV",
        "colab_type": "code",
        "colab": {
          "base_uri": "https://localhost:8080/",
          "height": 390
        },
        "outputId": "6f6e8ed8-7282-4ad1-d732-7440ed679306"
      },
      "source": [
        "data1['country'].fillna('Other',inplace=True)\n",
        "print(data1.country.value_counts())\n",
        "print(data1.country.isnull().sum())"
      ],
      "execution_count": 10,
      "outputs": [
        {
          "output_type": "stream",
          "text": [
            "US              36928\n",
            "France          11607\n",
            "Italy            7144\n",
            "Chile            2799\n",
            "Portugal         2768\n",
            "Spain            2594\n",
            "Argentina        2435\n",
            "Austria          1567\n",
            "Germany          1430\n",
            "New Zealand      1073\n",
            "Australia         964\n",
            "South Africa      658\n",
            "Other             381\n",
            "Israel            304\n",
            "Canada            168\n",
            "Greece            137\n",
            "Bulgaria           92\n",
            "Romania            79\n",
            "England            57\n",
            "Name: country, dtype: int64\n",
            "0\n"
          ],
          "name": "stdout"
        }
      ]
    },
    {
      "cell_type": "code",
      "metadata": {
        "id": "SbJv9OpekFIX",
        "colab_type": "code",
        "colab": {
          "base_uri": "https://localhost:8080/",
          "height": 604
        },
        "outputId": "3d022bca-6ec9-4fcb-9e9b-2ed5b2adcb56"
      },
      "source": [
        "print(data1.info())\n",
        "print(data1.nunique())\n",
        "print(data1.province.value_counts().head(70))"
      ],
      "execution_count": 11,
      "outputs": [
        {
          "output_type": "stream",
          "text": [
            "<class 'pandas.core.frame.DataFrame'>\n",
            "Int64Index: 73185 entries, 0 to 82656\n",
            "Data columns (total 6 columns):\n",
            " #   Column    Non-Null Count  Dtype  \n",
            "---  ------    --------------  -----  \n",
            " 0   country   73185 non-null  object \n",
            " 1   points    73185 non-null  int64  \n",
            " 2   price     73185 non-null  float64\n",
            " 3   province  73154 non-null  object \n",
            " 4   winery    73185 non-null  object \n",
            " 5   variety   73185 non-null  object \n",
            "dtypes: float64(1), int64(1), object(4)\n",
            "memory usage: 3.9+ MB\n",
            "None\n",
            "country        19\n",
            "points         19\n",
            "price          82\n",
            "province      349\n",
            "winery      12846\n",
            "variety        28\n",
            "dtype: int64\n",
            "California         24368\n",
            "Washington          5916\n",
            "Oregon              3791\n",
            "Tuscany             2997\n",
            "Bordeaux            2957\n",
            "                   ...  \n",
            "Rapel Valley          91\n",
            "Hawke's Bay           88\n",
            "Judean Hills          78\n",
            "Limarí Valley         75\n",
            "Thracian Valley       73\n",
            "Name: province, Length: 70, dtype: int64\n"
          ],
          "name": "stdout"
        }
      ]
    },
    {
      "cell_type": "code",
      "metadata": {
        "id": "dldCFSi0H-eN",
        "colab_type": "code",
        "colab": {
          "base_uri": "https://localhost:8080/",
          "height": 106
        },
        "outputId": "2b37ccb2-9c1a-41b8-cffd-efd35ef6788b"
      },
      "source": [
        "countss=data1.province.value_counts()\n",
        "remm=countss[countss<100].index\n",
        "Mask=data1.province.isin(remm)\n",
        "data1.province[Mask]='Outskirt'\n",
        "\n"
      ],
      "execution_count": 12,
      "outputs": [
        {
          "output_type": "stream",
          "text": [
            "/usr/local/lib/python3.6/dist-packages/ipykernel_launcher.py:4: SettingWithCopyWarning: \n",
            "A value is trying to be set on a copy of a slice from a DataFrame\n",
            "\n",
            "See the caveats in the documentation: https://pandas.pydata.org/pandas-docs/stable/user_guide/indexing.html#returning-a-view-versus-a-copy\n",
            "  after removing the cwd from sys.path.\n"
          ],
          "name": "stderr"
        }
      ]
    },
    {
      "cell_type": "code",
      "metadata": {
        "id": "djOmW7iQJJiQ",
        "colab_type": "code",
        "colab": {
          "base_uri": "https://localhost:8080/",
          "height": 248
        },
        "outputId": "1cec966e-3606-4622-ace8-ef99c3175dbe"
      },
      "source": [
        "data1['province'].fillna('Outskirt',inplace=True)\n",
        "print(data1.province.value_counts())\n",
        "print(data1.province.isnull().sum())"
      ],
      "execution_count": 13,
      "outputs": [
        {
          "output_type": "stream",
          "text": [
            "California          24368\n",
            "Washington           5916\n",
            "Oregon               3791\n",
            "Outskirt             3507\n",
            "Tuscany              2997\n",
            "                    ...  \n",
            "Pfalz                 116\n",
            "British Columbia      116\n",
            "Cachapoal Valley      114\n",
            "Central Otago         114\n",
            "Idaho                 112\n",
            "Name: province, Length: 66, dtype: int64\n",
            "0\n"
          ],
          "name": "stdout"
        }
      ]
    },
    {
      "cell_type": "code",
      "metadata": {
        "id": "D6N4IainQPk-",
        "colab_type": "code",
        "colab": {}
      },
      "source": [
        "countries=pd.get_dummies(data1['country'],drop_first=True)\n",
        "provinces=pd.get_dummies(data1['province'],drop_first=True)\n",
        "y=pd.get_dummies(data1['variety']).values\n",
        "X=pd.concat([countries,provinces,data1['points'],data1['price']],axis=1).values\n",
        "from sklearn.model_selection import train_test_split\n",
        "X_train,X_test,y_train,y_test=train_test_split(X,y,test_size=0.2,random_state=42)\n",
        "from sklearn.preprocessing import MinMaxScaler\n",
        "mms=MinMaxScaler()\n",
        "X_train=mms.fit_transform(X_train)\n",
        "X_test=mms.transform(X_test)"
      ],
      "execution_count": 0,
      "outputs": []
    },
    {
      "cell_type": "code",
      "metadata": {
        "id": "F8PJzd8UQ15O",
        "colab_type": "code",
        "colab": {
          "base_uri": "https://localhost:8080/",
          "height": 1000
        },
        "outputId": "25a45b9a-8e41-40d4-deac-c6999d0cc476"
      },
      "source": [
        "X=mms.fit_transform(X)\n",
        "from keras.models import Sequential\n",
        "from keras.layers import Dense\n",
        "classifier=Sequential()\n",
        "classifier.add(Dense(60,activation='relu',input_shape=(85,)))\n",
        "classifier.add(Dense(60,activation='relu'))\n",
        "classifier.add(Dense(28,activation='softmax'))\n",
        "classifier.compile(optimizer='adam',loss='categorical_crossentropy',metrics=['accuracy'])\n",
        "classifier.fit(X,y,epochs=200,batch_size=5)\n"
      ],
      "execution_count": 0,
      "outputs": [
        {
          "output_type": "stream",
          "text": [
            "Epoch 1/200\n",
            "73185/73185 [==============================] - 42s 574us/step - loss: 1.8461 - accuracy: 0.4115\n",
            "Epoch 2/200\n",
            "73185/73185 [==============================] - 42s 573us/step - loss: 1.7513 - accuracy: 0.4306\n",
            "Epoch 3/200\n",
            "73185/73185 [==============================] - 42s 574us/step - loss: 1.7346 - accuracy: 0.4344\n",
            "Epoch 4/200\n",
            "73185/73185 [==============================] - 42s 571us/step - loss: 1.7256 - accuracy: 0.4362\n",
            "Epoch 5/200\n",
            "73185/73185 [==============================] - 43s 582us/step - loss: 1.7181 - accuracy: 0.4378\n",
            "Epoch 6/200\n",
            "73185/73185 [==============================] - 42s 569us/step - loss: 1.7136 - accuracy: 0.4385\n",
            "Epoch 7/200\n",
            "73185/73185 [==============================] - 41s 564us/step - loss: 1.7099 - accuracy: 0.4394\n",
            "Epoch 8/200\n",
            "73185/73185 [==============================] - 41s 564us/step - loss: 1.7059 - accuracy: 0.4409\n",
            "Epoch 9/200\n",
            "73185/73185 [==============================] - 42s 568us/step - loss: 1.7036 - accuracy: 0.4389\n",
            "Epoch 10/200\n",
            "73185/73185 [==============================] - 41s 562us/step - loss: 1.7017 - accuracy: 0.4413\n",
            "Epoch 11/200\n",
            "73185/73185 [==============================] - 41s 562us/step - loss: 1.6998 - accuracy: 0.4415\n",
            "Epoch 12/200\n",
            "73185/73185 [==============================] - 41s 562us/step - loss: 1.6979 - accuracy: 0.4422\n",
            "Epoch 13/200\n",
            "73185/73185 [==============================] - 41s 565us/step - loss: 1.6967 - accuracy: 0.4418\n",
            "Epoch 14/200\n",
            "73185/73185 [==============================] - 41s 558us/step - loss: 1.6954 - accuracy: 0.4432\n",
            "Epoch 15/200\n",
            "73185/73185 [==============================] - 41s 560us/step - loss: 1.6949 - accuracy: 0.4434\n",
            "Epoch 16/200\n",
            "73185/73185 [==============================] - 41s 554us/step - loss: 1.6932 - accuracy: 0.4427\n",
            "Epoch 17/200\n",
            "73185/73185 [==============================] - 41s 556us/step - loss: 1.6925 - accuracy: 0.4421\n",
            "Epoch 18/200\n",
            "73185/73185 [==============================] - 41s 562us/step - loss: 1.6918 - accuracy: 0.4427\n",
            "Epoch 19/200\n",
            "73185/73185 [==============================] - 41s 557us/step - loss: 1.6917 - accuracy: 0.4426\n",
            "Epoch 20/200\n",
            "73185/73185 [==============================] - 41s 563us/step - loss: 1.6906 - accuracy: 0.4439\n",
            "Epoch 21/200\n",
            "73185/73185 [==============================] - 41s 558us/step - loss: 1.6903 - accuracy: 0.4447\n",
            "Epoch 22/200\n",
            "73185/73185 [==============================] - 41s 558us/step - loss: 1.6895 - accuracy: 0.4437\n",
            "Epoch 23/200\n",
            "73185/73185 [==============================] - 41s 560us/step - loss: 1.6906 - accuracy: 0.4443\n",
            "Epoch 24/200\n",
            "73185/73185 [==============================] - 41s 557us/step - loss: 1.6895 - accuracy: 0.4451\n",
            "Epoch 25/200\n",
            "73185/73185 [==============================] - 41s 562us/step - loss: 1.6898 - accuracy: 0.4449\n",
            "Epoch 26/200\n",
            "73185/73185 [==============================] - 41s 554us/step - loss: 1.6889 - accuracy: 0.4442\n",
            "Epoch 27/200\n",
            "73185/73185 [==============================] - 40s 551us/step - loss: 1.6888 - accuracy: 0.4439\n",
            "Epoch 28/200\n",
            "73185/73185 [==============================] - 41s 557us/step - loss: 1.6890 - accuracy: 0.4445\n",
            "Epoch 29/200\n",
            "73185/73185 [==============================] - 40s 552us/step - loss: 1.6896 - accuracy: 0.4451\n",
            "Epoch 30/200\n",
            "73185/73185 [==============================] - 40s 551us/step - loss: 1.6895 - accuracy: 0.4440\n",
            "Epoch 31/200\n",
            "73185/73185 [==============================] - 40s 543us/step - loss: 1.6902 - accuracy: 0.4438\n",
            "Epoch 32/200\n",
            "73185/73185 [==============================] - 40s 552us/step - loss: 1.6899 - accuracy: 0.4455\n",
            "Epoch 33/200\n",
            "73185/73185 [==============================] - 41s 556us/step - loss: 1.6892 - accuracy: 0.4453\n",
            "Epoch 34/200\n",
            "73185/73185 [==============================] - 40s 553us/step - loss: 1.6895 - accuracy: 0.4437\n",
            "Epoch 35/200\n",
            "73185/73185 [==============================] - 41s 559us/step - loss: 1.6904 - accuracy: 0.4444\n",
            "Epoch 36/200\n",
            "73185/73185 [==============================] - 41s 556us/step - loss: 1.6910 - accuracy: 0.4444\n",
            "Epoch 37/200\n",
            "73185/73185 [==============================] - 41s 561us/step - loss: 1.6911 - accuracy: 0.4445\n",
            "Epoch 38/200\n",
            "73185/73185 [==============================] - 41s 559us/step - loss: 1.6905 - accuracy: 0.4441\n",
            "Epoch 39/200\n",
            "73185/73185 [==============================] - 41s 556us/step - loss: 1.6901 - accuracy: 0.4443\n",
            "Epoch 40/200\n",
            "73185/73185 [==============================] - 40s 552us/step - loss: 1.6903 - accuracy: 0.4449\n",
            "Epoch 41/200\n",
            "73185/73185 [==============================] - 40s 542us/step - loss: 1.6920 - accuracy: 0.4442\n",
            "Epoch 42/200\n",
            "73185/73185 [==============================] - 40s 545us/step - loss: 1.6909 - accuracy: 0.4434\n",
            "Epoch 43/200\n",
            "73185/73185 [==============================] - 40s 547us/step - loss: 1.6916 - accuracy: 0.4440\n",
            "Epoch 44/200\n",
            "73185/73185 [==============================] - 39s 533us/step - loss: 1.6914 - accuracy: 0.4444\n",
            "Epoch 45/200\n",
            "73185/73185 [==============================] - 41s 554us/step - loss: 1.6913 - accuracy: 0.4459\n",
            "Epoch 46/200\n",
            "73185/73185 [==============================] - 42s 576us/step - loss: 1.6918 - accuracy: 0.4448\n",
            "Epoch 47/200\n",
            "73185/73185 [==============================] - 41s 559us/step - loss: 1.6898 - accuracy: 0.4435\n",
            "Epoch 48/200\n",
            "73185/73185 [==============================] - 42s 568us/step - loss: 1.6914 - accuracy: 0.4443\n",
            "Epoch 49/200\n",
            "73185/73185 [==============================] - 41s 566us/step - loss: 1.6925 - accuracy: 0.4430\n",
            "Epoch 50/200\n",
            "73185/73185 [==============================] - 42s 569us/step - loss: 1.6926 - accuracy: 0.4437\n",
            "Epoch 51/200\n",
            "73185/73185 [==============================] - 42s 570us/step - loss: 1.6918 - accuracy: 0.4450\n",
            "Epoch 52/200\n",
            "73185/73185 [==============================] - 42s 571us/step - loss: 1.6923 - accuracy: 0.4432\n",
            "Epoch 53/200\n",
            "73185/73185 [==============================] - 42s 569us/step - loss: 1.6934 - accuracy: 0.4444\n",
            "Epoch 54/200\n",
            "73185/73185 [==============================] - 42s 570us/step - loss: 1.6925 - accuracy: 0.4435\n",
            "Epoch 55/200\n",
            "73185/73185 [==============================] - 42s 571us/step - loss: 1.6932 - accuracy: 0.4436\n",
            "Epoch 56/200\n",
            "73185/73185 [==============================] - 42s 568us/step - loss: 1.6924 - accuracy: 0.4438\n",
            "Epoch 57/200\n",
            "73185/73185 [==============================] - 41s 567us/step - loss: 1.6931 - accuracy: 0.4444\n",
            "Epoch 58/200\n",
            "73185/73185 [==============================] - 42s 579us/step - loss: 1.6949 - accuracy: 0.4424\n",
            "Epoch 59/200\n",
            "73185/73185 [==============================] - 42s 568us/step - loss: 1.6945 - accuracy: 0.4440\n",
            "Epoch 60/200\n",
            "73185/73185 [==============================] - 42s 568us/step - loss: 1.6976 - accuracy: 0.4445\n",
            "Epoch 61/200\n",
            "73185/73185 [==============================] - 42s 569us/step - loss: 1.6972 - accuracy: 0.4428\n",
            "Epoch 62/200\n",
            "73185/73185 [==============================] - 42s 574us/step - loss: 1.6963 - accuracy: 0.4432\n",
            "Epoch 63/200\n",
            "73185/73185 [==============================] - 41s 566us/step - loss: 1.6954 - accuracy: 0.4440\n",
            "Epoch 64/200\n",
            "73185/73185 [==============================] - 42s 570us/step - loss: 1.6971 - accuracy: 0.4426\n",
            "Epoch 65/200\n",
            "73185/73185 [==============================] - 42s 571us/step - loss: 1.6972 - accuracy: 0.4433\n",
            "Epoch 66/200\n",
            "73185/73185 [==============================] - 42s 573us/step - loss: 1.6952 - accuracy: 0.4444\n",
            "Epoch 67/200\n",
            "73185/73185 [==============================] - 42s 568us/step - loss: 1.6968 - accuracy: 0.4432\n",
            "Epoch 68/200\n",
            "73185/73185 [==============================] - 41s 565us/step - loss: 1.6970 - accuracy: 0.4441\n",
            "Epoch 69/200\n",
            "73185/73185 [==============================] - 41s 567us/step - loss: 1.6963 - accuracy: 0.4444\n",
            "Epoch 70/200\n",
            "73185/73185 [==============================] - 42s 570us/step - loss: 1.6967 - accuracy: 0.4437\n",
            "Epoch 71/200\n",
            "73185/73185 [==============================] - 41s 564us/step - loss: 1.6961 - accuracy: 0.4441\n",
            "Epoch 72/200\n",
            "73185/73185 [==============================] - 41s 563us/step - loss: 1.6980 - accuracy: 0.4443\n",
            "Epoch 73/200\n",
            "73185/73185 [==============================] - 41s 567us/step - loss: 1.6990 - accuracy: 0.4444\n",
            "Epoch 74/200\n",
            "73185/73185 [==============================] - 42s 568us/step - loss: 1.6993 - accuracy: 0.4431\n",
            "Epoch 75/200\n",
            "73185/73185 [==============================] - 42s 580us/step - loss: 1.6987 - accuracy: 0.4432\n",
            "Epoch 76/200\n",
            "73185/73185 [==============================] - 42s 569us/step - loss: 1.6992 - accuracy: 0.4439\n",
            "Epoch 77/200\n",
            "73185/73185 [==============================] - 42s 580us/step - loss: 1.7002 - accuracy: 0.4432\n",
            "Epoch 78/200\n",
            "73185/73185 [==============================] - 42s 569us/step - loss: 1.6998 - accuracy: 0.4435\n",
            "Epoch 79/200\n",
            "73185/73185 [==============================] - 42s 568us/step - loss: 1.7013 - accuracy: 0.4438\n",
            "Epoch 80/200\n",
            "73185/73185 [==============================] - 43s 581us/step - loss: 1.6993 - accuracy: 0.4429\n",
            "Epoch 81/200\n",
            "73185/73185 [==============================] - 42s 576us/step - loss: 1.6996 - accuracy: 0.4432\n",
            "Epoch 82/200\n",
            "73185/73185 [==============================] - 42s 571us/step - loss: 1.7011 - accuracy: 0.4438\n",
            "Epoch 83/200\n",
            "73185/73185 [==============================] - 42s 572us/step - loss: 1.7005 - accuracy: 0.4448\n",
            "Epoch 84/200\n",
            "73185/73185 [==============================] - 42s 576us/step - loss: 1.7008 - accuracy: 0.4425\n",
            "Epoch 85/200\n",
            "73185/73185 [==============================] - 42s 572us/step - loss: 1.7013 - accuracy: 0.4426\n",
            "Epoch 86/200\n",
            "73185/73185 [==============================] - 42s 570us/step - loss: 1.7008 - accuracy: 0.4423\n",
            "Epoch 87/200\n",
            "73185/73185 [==============================] - 42s 574us/step - loss: 1.7022 - accuracy: 0.4441\n",
            "Epoch 88/200\n",
            "73185/73185 [==============================] - 42s 578us/step - loss: 1.7020 - accuracy: 0.4428\n",
            "Epoch 89/200\n",
            "73185/73185 [==============================] - 41s 562us/step - loss: 1.7020 - accuracy: 0.4417\n",
            "Epoch 90/200\n",
            "73185/73185 [==============================] - 41s 563us/step - loss: 1.7022 - accuracy: 0.4437\n",
            "Epoch 91/200\n",
            "73185/73185 [==============================] - 41s 565us/step - loss: 1.7030 - accuracy: 0.4431\n",
            "Epoch 92/200\n",
            "73185/73185 [==============================] - 43s 591us/step - loss: 1.7055 - accuracy: 0.4425\n",
            "Epoch 93/200\n",
            "73185/73185 [==============================] - 43s 589us/step - loss: 1.7051 - accuracy: 0.4434\n",
            "Epoch 94/200\n",
            "73185/73185 [==============================] - 45s 611us/step - loss: 1.7066 - accuracy: 0.4432\n",
            "Epoch 95/200\n",
            "73185/73185 [==============================] - 44s 601us/step - loss: 1.7054 - accuracy: 0.4433\n",
            "Epoch 96/200\n",
            "73185/73185 [==============================] - 42s 572us/step - loss: 1.7054 - accuracy: 0.4428\n",
            "Epoch 97/200\n",
            "73185/73185 [==============================] - 41s 567us/step - loss: 1.7065 - accuracy: 0.4441\n",
            "Epoch 98/200\n",
            "73185/73185 [==============================] - 42s 570us/step - loss: 1.7054 - accuracy: 0.4435\n",
            "Epoch 99/200\n",
            "73185/73185 [==============================] - 42s 576us/step - loss: 1.7059 - accuracy: 0.4430\n",
            "Epoch 100/200\n",
            "73185/73185 [==============================] - 42s 577us/step - loss: 1.7059 - accuracy: 0.4434\n",
            "Epoch 101/200\n",
            "73185/73185 [==============================] - 42s 571us/step - loss: 1.7060 - accuracy: 0.4433\n",
            "Epoch 102/200\n",
            "73185/73185 [==============================] - 43s 581us/step - loss: 1.7055 - accuracy: 0.4436\n",
            "Epoch 103/200\n",
            "73185/73185 [==============================] - 42s 580us/step - loss: 1.7072 - accuracy: 0.4437\n",
            "Epoch 104/200\n",
            "73185/73185 [==============================] - 42s 577us/step - loss: 1.7069 - accuracy: 0.4434\n",
            "Epoch 105/200\n",
            "73185/73185 [==============================] - 43s 582us/step - loss: 1.7097 - accuracy: 0.4423\n",
            "Epoch 106/200\n",
            "73185/73185 [==============================] - 43s 586us/step - loss: 1.7081 - accuracy: 0.4430\n",
            "Epoch 107/200\n",
            "73185/73185 [==============================] - 43s 581us/step - loss: 1.7061 - accuracy: 0.4426\n",
            "Epoch 108/200\n",
            "73185/73185 [==============================] - 43s 584us/step - loss: 1.7080 - accuracy: 0.4424\n",
            "Epoch 109/200\n",
            "73185/73185 [==============================] - 43s 584us/step - loss: 1.7084 - accuracy: 0.4436\n",
            "Epoch 110/200\n",
            "73185/73185 [==============================] - 43s 593us/step - loss: 1.7089 - accuracy: 0.4427\n",
            "Epoch 111/200\n",
            "73185/73185 [==============================] - 43s 585us/step - loss: 1.7129 - accuracy: 0.4429\n",
            "Epoch 112/200\n",
            "73185/73185 [==============================] - 43s 586us/step - loss: 1.7107 - accuracy: 0.4416\n",
            "Epoch 113/200\n",
            "73185/73185 [==============================] - 43s 585us/step - loss: 1.7113 - accuracy: 0.4413\n",
            "Epoch 114/200\n",
            "73185/73185 [==============================] - 42s 580us/step - loss: 1.7139 - accuracy: 0.4431\n",
            "Epoch 115/200\n",
            "73185/73185 [==============================] - 42s 578us/step - loss: 1.7111 - accuracy: 0.4425\n",
            "Epoch 116/200\n",
            "73185/73185 [==============================] - 43s 582us/step - loss: 1.7110 - accuracy: 0.4429\n",
            "Epoch 117/200\n",
            "73185/73185 [==============================] - 44s 602us/step - loss: 1.7118 - accuracy: 0.4426\n",
            "Epoch 118/200\n",
            "73185/73185 [==============================] - 44s 604us/step - loss: 1.7133 - accuracy: 0.4425\n",
            "Epoch 119/200\n",
            "73185/73185 [==============================] - 44s 603us/step - loss: 1.7114 - accuracy: 0.4412\n",
            "Epoch 120/200\n",
            "58650/73185 [=======================>......] - ETA: 8s - loss: 1.7127 - accuracy: 0.4429"
          ],
          "name": "stdout"
        }
      ]
    },
    {
      "cell_type": "code",
      "metadata": {
        "id": "nM_02LunfXyB",
        "colab_type": "code",
        "colab": {}
      },
      "source": [
        ""
      ],
      "execution_count": 0,
      "outputs": []
    }
  ]
}