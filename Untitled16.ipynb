{
  "nbformat": 4,
  "nbformat_minor": 0,
  "metadata": {
    "colab": {
      "name": "Untitled16.ipynb",
      "provenance": [],
      "authorship_tag": "ABX9TyO00PiyXB7ccUwkiyGIQcuK",
      "include_colab_link": true
    },
    "kernelspec": {
      "name": "python3",
      "display_name": "Python 3"
    }
  },
  "cells": [
    {
      "cell_type": "markdown",
      "metadata": {
        "id": "view-in-github",
        "colab_type": "text"
      },
      "source": [
        "<a href=\"https://colab.research.google.com/github/golu10/projects/blob/master/Untitled16.ipynb\" target=\"_parent\"><img src=\"https://colab.research.google.com/assets/colab-badge.svg\" alt=\"Open In Colab\"/></a>"
      ]
    },
    {
      "cell_type": "code",
      "metadata": {
        "id": "auLZNYzFTOOC",
        "colab_type": "code",
        "colab": {
          "base_uri": "https://localhost:8080/",
          "height": 124
        },
        "outputId": "50205357-8ce6-41e5-8a98-909073265275"
      },
      "source": [
        "import pandas as pd\n",
        "data=pd.read_csv('/content/train_E6oV3lV.xls')\n",
        "print(data.head())"
      ],
      "execution_count": 3,
      "outputs": [
        {
          "output_type": "stream",
          "text": [
            "   id  label                                              tweet\n",
            "0   1      0   @user when a father is dysfunctional and is s...\n",
            "1   2      0  @user @user thanks for #lyft credit i can't us...\n",
            "2   3      0                                bihday your majesty\n",
            "3   4      0  #model   i love u take with u all the time in ...\n",
            "4   5      0             factsguide: society now    #motivation\n"
          ],
          "name": "stdout"
        }
      ]
    },
    {
      "cell_type": "code",
      "metadata": {
        "id": "JQhvSBMSWV7x",
        "colab_type": "code",
        "colab": {}
      },
      "source": [
        "from keras.preprocessing.text import Tokenizer\n",
        "from keras.preprocessing.sequence import pad_sequences\n",
        "from sklearn.model_selection import train_test_split\n",
        "token=Tokenizer()\n",
        "token.fit_on_texts(data['tweet'])\n",
        "texts_numeric=token.texts_to_sequences(data['tweet'])\n",
        "X=texts_numeric\n",
        "y=data['label']\n",
        "X_train,X_test,y_train,y_test=train_test_split(X,y,test_size=0.2,random_state=42)\n",
        "x_train=pad_sequences(X_train,maxlen=200)\n",
        "x_test=pad_sequences(X_test,maxlen=200)\n",
        "from keras.models import Sequential\n",
        "from keras.layers import Embedding,Dense,LSTM\n",
        "model=Sequential()\n",
        "model.add(Embedding(50000,128))\n",
        "model.add(LSTM(128,dropout=0.2,recurrent_dropout=0.2))\n",
        "model.add(Dense(1,activation='sigmoid'))\n",
        "model.compile(optimizer='adam',loss='binary_crossentropy',metrics=['accuracy'])"
      ],
      "execution_count": 0,
      "outputs": []
    },
    {
      "cell_type": "code",
      "metadata": {
        "id": "-YLCgUE5W3kc",
        "colab_type": "code",
        "colab": {
          "base_uri": "https://localhost:8080/",
          "height": 624
        },
        "outputId": "3e26d8d8-7c6f-474f-abe0-08eee036c320"
      },
      "source": [
        "model.fit(x_train,y_train,epochs=15,batch_size=32)"
      ],
      "execution_count": 13,
      "outputs": [
        {
          "output_type": "stream",
          "text": [
            "/usr/local/lib/python3.6/dist-packages/tensorflow/python/framework/indexed_slices.py:434: UserWarning: Converting sparse IndexedSlices to a dense Tensor of unknown shape. This may consume a large amount of memory.\n",
            "  \"Converting sparse IndexedSlices to a dense Tensor of unknown shape. \"\n"
          ],
          "name": "stderr"
        },
        {
          "output_type": "stream",
          "text": [
            "Epoch 1/15\n",
            "25569/25569 [==============================] - 277s 11ms/step - loss: 0.1668 - accuracy: 0.9467\n",
            "Epoch 2/15\n",
            "25569/25569 [==============================] - 285s 11ms/step - loss: 0.0774 - accuracy: 0.9720\n",
            "Epoch 3/15\n",
            "25569/25569 [==============================] - 283s 11ms/step - loss: 0.0301 - accuracy: 0.9903\n",
            "Epoch 4/15\n",
            "25569/25569 [==============================] - 286s 11ms/step - loss: 0.0133 - accuracy: 0.9958\n",
            "Epoch 5/15\n",
            "25569/25569 [==============================] - 285s 11ms/step - loss: 0.0083 - accuracy: 0.9976\n",
            "Epoch 6/15\n",
            "25569/25569 [==============================] - 289s 11ms/step - loss: 0.0047 - accuracy: 0.9986\n",
            "Epoch 7/15\n",
            "25569/25569 [==============================] - 286s 11ms/step - loss: 0.0041 - accuracy: 0.9987\n",
            "Epoch 8/15\n",
            "25569/25569 [==============================] - 291s 11ms/step - loss: 0.0025 - accuracy: 0.9992\n",
            "Epoch 9/15\n",
            "25569/25569 [==============================] - 286s 11ms/step - loss: 0.0044 - accuracy: 0.9986\n",
            "Epoch 10/15\n",
            "25569/25569 [==============================] - 291s 11ms/step - loss: 0.0035 - accuracy: 0.9989\n",
            "Epoch 11/15\n",
            "25569/25569 [==============================] - 287s 11ms/step - loss: 0.0020 - accuracy: 0.9992\n",
            "Epoch 12/15\n",
            "25569/25569 [==============================] - 289s 11ms/step - loss: 0.0011 - accuracy: 0.9996\n",
            "Epoch 13/15\n",
            "25569/25569 [==============================] - 289s 11ms/step - loss: 0.0014 - accuracy: 0.9996\n",
            "Epoch 14/15\n",
            "25569/25569 [==============================] - 286s 11ms/step - loss: 0.0016 - accuracy: 0.9993\n",
            "Epoch 15/15\n",
            "25569/25569 [==============================] - 286s 11ms/step - loss: 0.0012 - accuracy: 0.9996\n"
          ],
          "name": "stdout"
        },
        {
          "output_type": "execute_result",
          "data": {
            "text/plain": [
              "<keras.callbacks.callbacks.History at 0x7fdfda2bb6d8>"
            ]
          },
          "metadata": {
            "tags": []
          },
          "execution_count": 13
        }
      ]
    },
    {
      "cell_type": "code",
      "metadata": {
        "id": "2ebWfbCpoAM9",
        "colab_type": "code",
        "colab": {
          "base_uri": "https://localhost:8080/",
          "height": 52
        },
        "outputId": "f2a9c1a8-ab4e-4e3b-add5-bc02aaf33547"
      },
      "source": [
        "score,acc=model.evaluate(x_test,y_test,batch_size=32)\n",
        "print(score,acc)"
      ],
      "execution_count": 14,
      "outputs": [
        {
          "output_type": "stream",
          "text": [
            "6393/6393 [==============================] - 13s 2ms/step\n",
            "0.2638444427250178 0.9590176939964294\n"
          ],
          "name": "stdout"
        }
      ]
    },
    {
      "cell_type": "code",
      "metadata": {
        "id": "NMNRj3YmvWFj",
        "colab_type": "code",
        "colab": {
          "base_uri": "https://localhost:8080/",
          "height": 35
        },
        "outputId": "0d182fbc-0f54-462e-8895-9cb8c5a8ee77"
      },
      "source": [
        "y_pred=model.predict(x_test)\n",
        "y_pred=y_pred>0.5\n",
        "from sklearn.metrics import confusion_matrix,f1_score\n",
        "cm=confusion_matrix(y_test,y_pred)\n",
        "f1=f1_score(y_test,y_pred)\n",
        "print(f1)"
      ],
      "execution_count": 19,
      "outputs": [
        {
          "output_type": "stream",
          "text": [
            "0.6781326781326781\n"
          ],
          "name": "stdout"
        }
      ]
    }
  ]
}